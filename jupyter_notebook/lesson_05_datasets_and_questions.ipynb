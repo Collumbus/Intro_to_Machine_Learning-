{
 "cells": [
  {
   "cell_type": "markdown",
   "metadata": {},
   "source": [
    "# Mini-Project"
   ]
  },
  {
   "cell_type": "markdown",
   "metadata": {},
   "source": [
    "# Quiz: Size of the Enron Dataset"
   ]
  },
  {
   "cell_type": "code",
   "execution_count": 1,
   "metadata": {
    "collapsed": false
   },
   "outputs": [
    {
     "name": "stdout",
     "output_type": "stream",
     "text": [
      "The number of data points in Enron dataset is: 146\n"
     ]
    }
   ],
   "source": [
    "#!/usr/bin/python\n",
    "\n",
    "\"\"\"\n",
    "    Starter code for exploring the Enron dataset (emails + finances);\n",
    "    loads up the dataset (pickled dict of dicts).\n",
    "\n",
    "    The dataset has the form:\n",
    "    enron_data[\"LASTNAME FIRSTNAME MIDDLEINITIAL\"] = { features_dict }\n",
    "\n",
    "    {features_dict} is a dictionary of features associated with that person.\n",
    "    You should explore features_dict as part of the mini-project,\n",
    "    but here's an example to get you started:\n",
    "\n",
    "    enron_data[\"SKILLING JEFFREY K\"][\"bonus\"] = 5600000\n",
    "\n",
    "\"\"\"\n",
    "\n",
    "import pickle\n",
    "\n",
    "enron_data = pickle.load(open(\"../ud120-projects/final_project/final_project_dataset.pkl\", \"r\"))\n",
    "\n",
    "print ('The number of data points in Enron dataset is: %i' %len(enron_data))\n"
   ]
  },
  {
   "cell_type": "markdown",
   "metadata": {},
   "source": [
    "# Quiz: Features in the Enron Dataset"
   ]
  },
  {
   "cell_type": "code",
   "execution_count": 4,
   "metadata": {
    "collapsed": false
   },
   "outputs": [
    {
     "name": "stdout",
     "output_type": "stream",
     "text": [
      "The number of features per person is: 21\n"
     ]
    }
   ],
   "source": [
    "for i in enron_data:\n",
    "    c = len(enron_data[i])\n",
    "    if c != c:\n",
    "        print c\n",
    "print ('The number of features per person is: %i' % c)    "
   ]
  },
  {
   "cell_type": "markdown",
   "metadata": {},
   "source": [
    "# Quiz: Finding POIs in the Enron Data"
   ]
  },
  {
   "cell_type": "code",
   "execution_count": 5,
   "metadata": {
    "collapsed": false
   },
   "outputs": [
    {
     "name": "stdout",
     "output_type": "stream",
     "text": [
      "The number of POIs is: 18\n"
     ]
    }
   ],
   "source": [
    "cp = 0\n",
    "for i in enron_data:\n",
    "    if enron_data[i]['poi'] == 1:\n",
    "        cp += 1\n",
    "print ('The number of POIs is: %i' % cp) "
   ]
  },
  {
   "cell_type": "markdown",
   "metadata": {},
   "source": [
    "# Quiz: How Many POIs Exist?"
   ]
  },
  {
   "cell_type": "code",
   "execution_count": 7,
   "metadata": {
    "collapsed": true
   },
   "outputs": [],
   "source": [
    "names_file = open(\"../ud120-projects/final_project/poi_names.txt\", \"r\")\n",
    "#names = names_file.readlines()\n",
    "#names_file.close()"
   ]
  },
  {
   "cell_type": "code",
   "execution_count": 8,
   "metadata": {
    "collapsed": false
   },
   "outputs": [
    {
     "data": {
      "text/plain": [
       "['(y) Lay, Kenneth',\n",
       " '(y) Skilling, Jeffrey',\n",
       " '(n) Howard, Kevin',\n",
       " '(n) Krautz, Michael',\n",
       " '(n) Yeager, Scott',\n",
       " '(n) Hirko, Joseph',\n",
       " '(n) Shelby, Rex',\n",
       " '(n) Bermingham, David',\n",
       " '(n) Darby, Giles',\n",
       " '(n) Mulgrew, Gary',\n",
       " '(n) Bayley, Daniel',\n",
       " '(n) Brown, James',\n",
       " '(n) Furst, Robert',\n",
       " '(n) Fuhs, William',\n",
       " '(n) Causey, Richard',\n",
       " '(n) Calger, Christopher',\n",
       " '(n) DeSpain, Timothy',\n",
       " '(n) Hannon, Kevin',\n",
       " '(n) Koenig, Mark',\n",
       " '(y) Forney, John',\n",
       " '(n) Rice, Kenneth',\n",
       " '(n) Rieker, Paula',\n",
       " '(n) Fastow, Lea',\n",
       " '(n) Fastow, Andrew',\n",
       " '(y) Delainey, David',\n",
       " '(n) Glisan, Ben',\n",
       " '(n) Richter, Jeffrey',\n",
       " '(n) Lawyer, Larry',\n",
       " '(n) Belden, Timothy',\n",
       " '(n) Kopper, Michael',\n",
       " '(n) Duncan, David',\n",
       " '(n) Bowen, Raymond',\n",
       " '(n) Colwell, Wesley',\n",
       " '(n) Boyle, Dan',\n",
       " '(n) Loehr, Christopher']"
      ]
     },
     "execution_count": 8,
     "metadata": {},
     "output_type": "execute_result"
    }
   ],
   "source": [
    "import re\n",
    "ln = list()\n",
    "for line in names_file:\n",
    "    if not line.startswith(\"(\"): continue\n",
    "    ln.append(line.rstrip())\n",
    "    #line.split('')\n",
    "ln\n",
    "#line"
   ]
  },
  {
   "cell_type": "code",
   "execution_count": 9,
   "metadata": {
    "collapsed": false
   },
   "outputs": [
    {
     "name": "stdout",
     "output_type": "stream",
     "text": [
      "The number of POIs were there total is: 35\n"
     ]
    }
   ],
   "source": [
    "print ('The number of POIs were there total is: %i' % len(ln))"
   ]
  },
  {
   "cell_type": "markdown",
   "metadata": {},
   "source": [
    "# Quiz: Problems with Incomplete Data"
   ]
  },
  {
   "cell_type": "markdown",
   "metadata": {},
   "source": [
    "yes"
   ]
  },
  {
   "cell_type": "markdown",
   "metadata": {},
   "source": [
    "# Quiz: Query the Dataset 1"
   ]
  },
  {
   "cell_type": "code",
   "execution_count": 13,
   "metadata": {
    "collapsed": false
   },
   "outputs": [
    {
     "name": "stdout",
     "output_type": "stream",
     "text": [
      "The total value of the stock tha belong to James Prentice is 1095040.\n"
     ]
    }
   ],
   "source": [
    "edt =enron_data['PRENTICE JAMES']['total_stock_value']\n",
    "print ('The total value of the stock tha belong to James Prentice is %i.'% edt)"
   ]
  },
  {
   "cell_type": "markdown",
   "metadata": {},
   "source": [
    "# Quiz: Query the Dataset 2"
   ]
  },
  {
   "cell_type": "code",
   "execution_count": 15,
   "metadata": {
    "collapsed": false
   },
   "outputs": [
    {
     "name": "stdout",
     "output_type": "stream",
     "text": [
      "We have 11 messages from Wesley Colwell.\n"
     ]
    }
   ],
   "source": [
    "eml = enron_data['COLWELL WESLEY']['from_this_person_to_poi']\n",
    "print ('We have %i messages from Wesley Colwell.'% eml)"
   ]
  },
  {
   "cell_type": "markdown",
   "metadata": {},
   "source": [
    "# Quiz: Query the Dataset 3"
   ]
  },
  {
   "cell_type": "code",
   "execution_count": 16,
   "metadata": {
    "collapsed": false
   },
   "outputs": [
    {
     "name": "stdout",
     "output_type": "stream",
     "text": [
      "he value of stock options exercised by Jeffrey K Skilling 19250000.\n"
     ]
    }
   ],
   "source": [
    "eso = enron_data['SKILLING JEFFREY K']['exercised_stock_options']\n",
    "print ('he value of stock options exercised by Jeffrey K Skilling %i.'% eso)"
   ]
  },
  {
   "cell_type": "markdown",
   "metadata": {},
   "source": [
    "# Quiz: Research the Enron Fraud"
   ]
  },
  {
   "cell_type": "markdown",
   "metadata": {},
   "source": [
    "study the case ;)"
   ]
  },
  {
   "cell_type": "markdown",
   "metadata": {},
   "source": [
    "# Quiz: Enron CEO"
   ]
  },
  {
   "cell_type": "markdown",
   "metadata": {},
   "source": [
    "study the case ;)"
   ]
  },
  {
   "cell_type": "markdown",
   "metadata": {},
   "source": [
    "# Quiz: Enron Chairman"
   ]
  },
  {
   "cell_type": "markdown",
   "metadata": {},
   "source": [
    "study the case ;)"
   ]
  },
  {
   "cell_type": "markdown",
   "metadata": {},
   "source": [
    "# Quiz: Enron CFO"
   ]
  },
  {
   "cell_type": "markdown",
   "metadata": {},
   "source": [
    "study the case ;)"
   ]
  },
  {
   "cell_type": "code",
   "execution_count": 47,
   "metadata": {
    "collapsed": false
   },
   "outputs": [
    {
     "name": "stdout",
     "output_type": "stream",
     "text": [
      "LAY is who took home the most money. He took 103559793.\n"
     ]
    }
   ],
   "source": [
    "tp1 = enron_data['SKILLING JEFFREY K']['total_payments']\n",
    "tp2 = enron_data['LAY KENNETH L']['total_payments']\n",
    "tp3 = enron_data['FASTOW ANDREW S']['total_payments']\n",
    "ff = {'SKILLING':tp1, 'LAY':tp2, 'FASTOW':tp3}\n",
    "name = max(ff, key=ff.get)\n",
    "print ('%s is who took home the most money. He took %i.' % (name, ff.get(name)))"
   ]
  },
  {
   "cell_type": "markdown",
   "metadata": {},
   "source": [
    "#  Quiz: Unfilled Features"
   ]
  },
  {
   "cell_type": "markdown",
   "metadata": {},
   "source": [
    "Nan"
   ]
  },
  {
   "cell_type": "markdown",
   "metadata": {},
   "source": [
    "# Quiz: Dealing with Unfilled Features"
   ]
  },
  {
   "cell_type": "code",
   "execution_count": 48,
   "metadata": {
    "collapsed": false
   },
   "outputs": [
    {
     "name": "stdout",
     "output_type": "stream",
     "text": [
      "The number of folks that have a quantified salary is 95 and the number of e-mails known is 111\n"
     ]
    }
   ],
   "source": [
    "sal = 0\n",
    "em = 0\n",
    "for i in enron_data:\n",
    "    if (type(enron_data[i]['salary']) == int):\n",
    "        sal += 1\n",
    "    if ((enron_data[i]['email_address']) != \"NaN\"):\n",
    "        em += 1\n",
    "print ('The number of folks that have a quantified salary is %i and the number of e-mails known is %i' % (sal,em))"
   ]
  },
  {
   "cell_type": "markdown",
   "metadata": {},
   "source": [
    "# Quiz: Missing POIs 1 (optional)"
   ]
  },
  {
   "cell_type": "code",
   "execution_count": 49,
   "metadata": {
    "collapsed": false
   },
   "outputs": [
    {
     "name": "stdout",
     "output_type": "stream",
     "text": [
      "The percentage of people in dataset that hava a NaN for their total payment is 14.4%\n"
     ]
    }
   ],
   "source": [
    "import numpy\n",
    "tp = 0\n",
    "tpn = 0\n",
    "for i in enron_data:\n",
    "    if ((enron_data[i]['total_payments']) == \"NaN\"):\n",
    "        tp += 1\n",
    "tpp = float(tp)/float((len(enron_data)))*100\n",
    "print ('The percentage of people in dataset that hava a NaN for their total payment is %.1f%%' % tpp)"
   ]
  },
  {
   "cell_type": "markdown",
   "metadata": {},
   "source": [
    "# Quiz: Missing POIs 2 (optional)"
   ]
  },
  {
   "cell_type": "code",
   "execution_count": 51,
   "metadata": {
    "collapsed": false
   },
   "outputs": [
    {
     "name": "stdout",
     "output_type": "stream",
     "text": [
      "The percentage of POIs in dataset that have a NaN for their total payment is 0.\n"
     ]
    }
   ],
   "source": [
    "import numpy\n",
    "tpoi = 0\n",
    "tpnoi = 0\n",
    "for i in enron_data:\n",
    "    if ((enron_data[i]['poi']) == True):\n",
    "        tpnoi +=1\n",
    "        if ((enron_data[i]['total_payments']) == \"NaN\"):\n",
    "            tpoi += 1\n",
    "\n",
    "print ('The percentage of POIs in dataset that have a NaN for their total payment is %i.'% tpoi)"
   ]
  },
  {
   "cell_type": "markdown",
   "metadata": {},
   "source": [
    "# Quiz: Missing POIs 3 (optional)"
   ]
  },
  {
   "cell_type": "markdown",
   "metadata": {},
   "source": [
    "non-POIs"
   ]
  },
  {
   "cell_type": "markdown",
   "metadata": {},
   "source": [
    "# Quiz: Missing POIs 4 (optional)"
   ]
  },
  {
   "cell_type": "code",
   "execution_count": 55,
   "metadata": {
    "collapsed": false
   },
   "outputs": [
    {
     "name": "stdout",
     "output_type": "stream",
     "text": [
      "The number of people in the dataset is 156.\n",
      "The number of new folks with NaN for total_payment is 31.\n"
     ]
    }
   ],
   "source": [
    "print ('The number of people in the dataset is %i.'% (len(enron_data)+10))\n",
    "print ('The number of new folks with NaN for total_payment is %i.'% (tp+10))"
   ]
  },
  {
   "cell_type": "markdown",
   "metadata": {},
   "source": [
    "# Quiz: Missing POIs 5 (optional)"
   ]
  },
  {
   "cell_type": "markdown",
   "metadata": {},
   "source": [
    "28 and\n",
    "10"
   ]
  },
  {
   "cell_type": "markdown",
   "metadata": {},
   "source": [
    "# Quiz: Missing POIs 6 (optional)"
   ]
  },
  {
   "cell_type": "markdown",
   "metadata": {},
   "source": [
    "Yes"
   ]
  },
  {
   "cell_type": "code",
   "execution_count": null,
   "metadata": {
    "collapsed": true
   },
   "outputs": [],
   "source": []
  }
 ],
 "metadata": {
  "kernelspec": {
   "display_name": "Python [Root]",
   "language": "python",
   "name": "Python [Root]"
  },
  "language_info": {
   "codemirror_mode": {
    "name": "ipython",
    "version": 2
   },
   "file_extension": ".py",
   "mimetype": "text/x-python",
   "name": "python",
   "nbconvert_exporter": "python",
   "pygments_lexer": "ipython2",
   "version": "2.7.12"
  }
 },
 "nbformat": 4,
 "nbformat_minor": 0
}
