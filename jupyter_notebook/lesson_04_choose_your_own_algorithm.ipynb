{
 "cells": [
  {
   "cell_type": "markdown",
   "metadata": {},
   "source": [
    "# Quiz: Can You Beat Our High Score?"
   ]
  },
  {
   "cell_type": "markdown",
   "metadata": {},
   "source": [
    "from time import time\n",
    "def classify(features_train, labels_train, features_test, labels_test):\n",
    "    \"\"\" compute the accuracy of your SVM classifier \"\"\"\n",
    "    ### import the sklearn module for SVM\n",
    "\n",
    "    from sklearn.svm import SVC\n",
    "\n",
    "\n",
    "    #features_train = features_train[:len(features_train)/100]\n",
    "    #labels_train = labels_train[:len(labels_train)/100]\n",
    "\n",
    "    clf = SVC(kernel=\"rbf\", C=1e8)\n",
    "    t0 = time()\n",
    "    clf.fit(features_train, labels_train)\n",
    "    fit_t = round(time()-t0, 3)\n",
    "\n",
    "    t0 = time()\n",
    "    pred = clf.predict(features_test)\n",
    "    pred_t = round(time()-t0, 3)\n",
    "\n",
    "    from sklearn.metrics import accuracy_score\n",
    "    acc = (accuracy_score(pred, labels_test))*100\n",
    "    return [fit_t, pred_t, acc, pred]\n",
    "\n",
    "print ''\n",
    "results = classify(features_train, labels_train, features_test, labels_test)\n",
    "print ('The fit time is: %.2f s' % results[0])\n",
    "print ('The training time is: %.2f s' % results[1])\n",
    "print ('The accuracy is: %.2f' % results[2])\n",
    "\n",
    "\n",
    "\n",
    "try:\n",
    "    prettyPicture(clf, features_test, labels_test)\n",
    "except NameError:\n",
    "    pass"
   ]
  },
  {
   "cell_type": "code",
   "execution_count": null,
   "metadata": {
    "collapsed": true
   },
   "outputs": [],
   "source": []
  }
 ],
 "metadata": {
  "kernelspec": {
   "display_name": "Python [Root]",
   "language": "python",
   "name": "Python [Root]"
  },
  "language_info": {
   "codemirror_mode": {
    "name": "ipython",
    "version": 2
   },
   "file_extension": ".py",
   "mimetype": "text/x-python",
   "name": "python",
   "nbconvert_exporter": "python",
   "pygments_lexer": "ipython2",
   "version": "2.7.12"
  }
 },
 "nbformat": 4,
 "nbformat_minor": 0
}
